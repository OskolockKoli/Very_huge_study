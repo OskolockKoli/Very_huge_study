{
  "nbformat": 4,
  "nbformat_minor": 0,
  "metadata": {
    "colab": {
      "provenance": []
    },
    "kernelspec": {
      "name": "python3",
      "display_name": "Python 3"
    },
    "language_info": {
      "name": "python"
    }
  },
  "cells": [
    {
      "cell_type": "code",
      "execution_count": 15,
      "metadata": {
        "id": "_NKiK0ZusbmJ"
      },
      "outputs": [],
      "source": [
        "import numpy as np\n",
        "from sympy import *"
      ]
    },
    {
      "cell_type": "markdown",
      "source": [
        "Общая часть"
      ],
      "metadata": {
        "id": "5T6bJbU-ujfW"
      }
    },
    {
      "cell_type": "code",
      "source": [
        "A = np.array([[-7,4,0],  [0,-1,0],  [-1,5,7]])\n",
        "A"
      ],
      "metadata": {
        "colab": {
          "base_uri": "https://localhost:8080/"
        },
        "id": "hrV6bMe7umcB",
        "outputId": "aee8df6b-9a52-4584-ef52-feb57ff1531f"
      },
      "execution_count": null,
      "outputs": [
        {
          "output_type": "execute_result",
          "data": {
            "text/plain": [
              "array([[-7,  4,  0],\n",
              "       [ 0, -1,  0],\n",
              "       [-1,  5,  7]])"
            ]
          },
          "metadata": {},
          "execution_count": 7
        }
      ]
    },
    {
      "cell_type": "code",
      "source": [
        "E = np.eye(3)\n",
        "E"
      ],
      "metadata": {
        "colab": {
          "base_uri": "https://localhost:8080/"
        },
        "id": "BdhYffolu6nv",
        "outputId": "94fc39f7-7633-483c-a446-7c3b05681b00"
      },
      "execution_count": null,
      "outputs": [
        {
          "output_type": "execute_result",
          "data": {
            "text/plain": [
              "array([[1., 0., 0.],\n",
              "       [0., 1., 0.],\n",
              "       [0., 0., 1.]])"
            ]
          },
          "metadata": {},
          "execution_count": 8
        }
      ]
    },
    {
      "cell_type": "code",
      "source": [
        "A = np.array([1,2,3])\n",
        "A"
      ],
      "metadata": {
        "colab": {
          "base_uri": "https://localhost:8080/"
        },
        "id": "xHxiP15Pu-a0",
        "outputId": "e0dbd19b-c2e2-4e1b-8488-84d7cdf629df"
      },
      "execution_count": null,
      "outputs": [
        {
          "output_type": "execute_result",
          "data": {
            "text/plain": [
              "array([1, 2, 3])"
            ]
          },
          "metadata": {},
          "execution_count": 9
        }
      ]
    },
    {
      "cell_type": "code",
      "source": [
        "A = np.array ([[-7,4,0], [0,-1,0],  [-1,5,7]])\n",
        "A[0,1]"
      ],
      "metadata": {
        "colab": {
          "base_uri": "https://localhost:8080/"
        },
        "id": "Hi9Ea6V_vKHy",
        "outputId": "dd7e0a80-d38d-4636-ac77-3e99ab12d14a"
      },
      "execution_count": null,
      "outputs": [
        {
          "output_type": "execute_result",
          "data": {
            "text/plain": [
              "4"
            ]
          },
          "metadata": {},
          "execution_count": 10
        }
      ]
    },
    {
      "cell_type": "code",
      "source": [
        "A[:,1:3]"
      ],
      "metadata": {
        "colab": {
          "base_uri": "https://localhost:8080/"
        },
        "id": "AWwshPKuvZAV",
        "outputId": "f9fb8e24-7fe2-47b6-f314-2c0e1300f3ce"
      },
      "execution_count": null,
      "outputs": [
        {
          "output_type": "execute_result",
          "data": {
            "text/plain": [
              "array([[ 4,  0],\n",
              "       [-1,  0],\n",
              "       [ 5,  7]])"
            ]
          },
          "metadata": {},
          "execution_count": 12
        }
      ]
    },
    {
      "cell_type": "code",
      "source": [
        "A = np.array([[1,2,3], [4,5,6], [7,8,9]])\n",
        "E = np.eye(3)\n",
        "A-E"
      ],
      "metadata": {
        "colab": {
          "base_uri": "https://localhost:8080/"
        },
        "id": "sTrC4_JzvoOG",
        "outputId": "c9b78283-9359-465e-905c-bbd6110adebe"
      },
      "execution_count": null,
      "outputs": [
        {
          "output_type": "execute_result",
          "data": {
            "text/plain": [
              "array([[0., 2., 3.],\n",
              "       [4., 4., 6.],\n",
              "       [7., 8., 8.]])"
            ]
          },
          "metadata": {},
          "execution_count": 13
        }
      ]
    },
    {
      "cell_type": "code",
      "source": [
        "3*A"
      ],
      "metadata": {
        "colab": {
          "base_uri": "https://localhost:8080/"
        },
        "id": "C9Gh5BQXvx3Z",
        "outputId": "770cbb5b-cd8b-40bf-dbe4-93b348d28100"
      },
      "execution_count": null,
      "outputs": [
        {
          "output_type": "execute_result",
          "data": {
            "text/plain": [
              "array([[ 3,  6,  9],\n",
              "       [12, 15, 18],\n",
              "       [21, 24, 27]])"
            ]
          },
          "metadata": {},
          "execution_count": 14
        }
      ]
    },
    {
      "cell_type": "code",
      "source": [
        "А = np.array([[1,2,3], [4,5,6]])\n",
        "В = np.array([[0,0,0], [2,2,2]])\n",
        "А*В"
      ],
      "metadata": {
        "colab": {
          "base_uri": "https://localhost:8080/"
        },
        "id": "-dCeNl01v80E",
        "outputId": "2cc2b2ef-7a37-4650-e73e-8cb9fb04ee86"
      },
      "execution_count": null,
      "outputs": [
        {
          "output_type": "execute_result",
          "data": {
            "text/plain": [
              "array([[ 0,  0,  0],\n",
              "       [ 8, 10, 12]])"
            ]
          },
          "metadata": {},
          "execution_count": 15
        }
      ]
    },
    {
      "cell_type": "code",
      "source": [
        "B = np.array([[1,0],[0,-2],[2,1]])\n",
        "B.T"
      ],
      "metadata": {
        "colab": {
          "base_uri": "https://localhost:8080/"
        },
        "id": "DYvP1d2Zv_us",
        "outputId": "762ef8c3-081b-4227-f257-27e966027e6b"
      },
      "execution_count": null,
      "outputs": [
        {
          "output_type": "execute_result",
          "data": {
            "text/plain": [
              "array([[ 1,  0,  2],\n",
              "       [ 0, -2,  1]])"
            ]
          },
          "metadata": {},
          "execution_count": 16
        }
      ]
    },
    {
      "cell_type": "code",
      "source": [
        "A = np.array([[-7,4,0],[0,-1,0],[-1,5,7]])\n",
        "В = np.array([[1,0],[0,-2],[2,1]])\n",
        "F = А@В\n",
        "F"
      ],
      "metadata": {
        "colab": {
          "base_uri": "https://localhost:8080/"
        },
        "id": "yP5uHhT5wZC0",
        "outputId": "0089d1e9-c485-46ab-a513-427b9cc9ef17"
      },
      "execution_count": null,
      "outputs": [
        {
          "output_type": "execute_result",
          "data": {
            "text/plain": [
              "array([[ 7, -1],\n",
              "       [16, -4]])"
            ]
          },
          "metadata": {},
          "execution_count": 18
        }
      ]
    },
    {
      "cell_type": "code",
      "source": [
        "F = np.dot(A,B)\n",
        "F"
      ],
      "metadata": {
        "colab": {
          "base_uri": "https://localhost:8080/"
        },
        "id": "XVbOIx-2xHwm",
        "outputId": "64927d76-3aa3-47ee-9bb0-702d546ba405"
      },
      "execution_count": null,
      "outputs": [
        {
          "output_type": "execute_result",
          "data": {
            "text/plain": [
              "array([[-7, -8],\n",
              "       [ 0,  2],\n",
              "       [13, -3]])"
            ]
          },
          "metadata": {},
          "execution_count": 19
        }
      ]
    },
    {
      "cell_type": "code",
      "source": [
        "F = np.matmul(A,B)\n",
        "F"
      ],
      "metadata": {
        "colab": {
          "base_uri": "https://localhost:8080/"
        },
        "id": "eeBL_D0TxoEH",
        "outputId": "46512c35-45c6-4839-92c2-b73bb3ae5fce"
      },
      "execution_count": null,
      "outputs": [
        {
          "output_type": "execute_result",
          "data": {
            "text/plain": [
              "array([[-7, -8],\n",
              "       [ 0,  2],\n",
              "       [13, -3]])"
            ]
          },
          "metadata": {},
          "execution_count": 20
        }
      ]
    },
    {
      "cell_type": "code",
      "source": [
        "C = np.array([[7,-3],[1,2]])\n",
        "np.linalg.det(C)"
      ],
      "metadata": {
        "colab": {
          "base_uri": "https://localhost:8080/"
        },
        "id": "n45eOaM-vTNc",
        "outputId": "dc259fd6-b75f-4c2c-e183-253e91440b0d"
      },
      "execution_count": null,
      "outputs": [
        {
          "output_type": "execute_result",
          "data": {
            "text/plain": [
              "17.0"
            ]
          },
          "metadata": {},
          "execution_count": 21
        }
      ]
    },
    {
      "cell_type": "code",
      "source": [
        "np.linalg.inv(C)"
      ],
      "metadata": {
        "colab": {
          "base_uri": "https://localhost:8080/"
        },
        "id": "7_qNylT7yaEM",
        "outputId": "930822c1-5ae3-441f-9227-0610a6b0ad5d"
      },
      "execution_count": null,
      "outputs": [
        {
          "output_type": "execute_result",
          "data": {
            "text/plain": [
              "array([[ 0.11764706,  0.17647059],\n",
              "       [-0.05882353,  0.41176471]])"
            ]
          },
          "metadata": {},
          "execution_count": 23
        }
      ]
    },
    {
      "cell_type": "code",
      "source": [
        "np.linalg.matrix_rank(A)"
      ],
      "metadata": {
        "colab": {
          "base_uri": "https://localhost:8080/"
        },
        "id": "W6c9joa2y6Qb",
        "outputId": "89d24b00-e7a3-4faa-d8dc-90ea8d2f87f9"
      },
      "execution_count": null,
      "outputs": [
        {
          "output_type": "execute_result",
          "data": {
            "text/plain": [
              "3"
            ]
          },
          "metadata": {},
          "execution_count": 24
        }
      ]
    },
    {
      "cell_type": "code",
      "source": [
        "a = Matrix([[1,2,3], [0,-1, 1]])\n",
        "a"
      ],
      "metadata": {
        "colab": {
          "base_uri": "https://localhost:8080/",
          "height": 58
        },
        "id": "LNgEnTdQzAmq",
        "outputId": "60e1adfb-5720-4a44-b0fe-b78d4e70fc2e"
      },
      "execution_count": null,
      "outputs": [
        {
          "output_type": "execute_result",
          "data": {
            "text/plain": [
              "Matrix([\n",
              "[1,  2, 3],\n",
              "[0, -1, 1]])"
            ],
            "text/latex": "$\\displaystyle \\left[\\begin{matrix}1 & 2 & 3\\\\0 & -1 & 1\\end{matrix}\\right]$"
          },
          "metadata": {},
          "execution_count": 26
        }
      ]
    },
    {
      "cell_type": "code",
      "source": [
        "x,y,z = symbols('x у z')\n",
        "v = Matrix([[1,x],[y,z]])\n",
        "v"
      ],
      "metadata": {
        "colab": {
          "base_uri": "https://localhost:8080/",
          "height": 58
        },
        "id": "L91WDPCyzYl5",
        "outputId": "17aaebf9-7bb9-416c-b6b1-21fe852d894e"
      },
      "execution_count": null,
      "outputs": [
        {
          "output_type": "execute_result",
          "data": {
            "text/plain": [
              "Matrix([\n",
              "[1, x],\n",
              "[у, z]])"
            ],
            "text/latex": "$\\displaystyle \\left[\\begin{matrix}1 & x\\\\у & z\\end{matrix}\\right]$"
          },
          "metadata": {},
          "execution_count": 29
        }
      ]
    },
    {
      "cell_type": "code",
      "source": [
        "eye(3)"
      ],
      "metadata": {
        "colab": {
          "base_uri": "https://localhost:8080/",
          "height": 78
        },
        "id": "7a-8iNGHzppg",
        "outputId": "c49f645c-d2ed-4f15-d5f4-7ec374101ccb"
      },
      "execution_count": null,
      "outputs": [
        {
          "output_type": "execute_result",
          "data": {
            "text/plain": [
              "Matrix([\n",
              "[1, 0, 0],\n",
              "[0, 1, 0],\n",
              "[0, 0, 1]])"
            ],
            "text/latex": "$\\displaystyle \\left[\\begin{matrix}1 & 0 & 0\\\\0 & 1 & 0\\\\0 & 0 & 1\\end{matrix}\\right]$"
          },
          "metadata": {},
          "execution_count": 30
        }
      ]
    },
    {
      "cell_type": "code",
      "source": [
        "zeros(2,3)"
      ],
      "metadata": {
        "colab": {
          "base_uri": "https://localhost:8080/",
          "height": 58
        },
        "id": "I_8f1zc8zrbv",
        "outputId": "46fddf87-73a8-4d3b-8cbc-6d597468ef3b"
      },
      "execution_count": null,
      "outputs": [
        {
          "output_type": "execute_result",
          "data": {
            "text/plain": [
              "Matrix([\n",
              "[0, 0, 0],\n",
              "[0, 0, 0]])"
            ],
            "text/latex": "$\\displaystyle \\left[\\begin{matrix}0 & 0 & 0\\\\0 & 0 & 0\\end{matrix}\\right]$"
          },
          "metadata": {},
          "execution_count": 31
        }
      ]
    },
    {
      "cell_type": "code",
      "source": [
        "ones(3,2)"
      ],
      "metadata": {
        "colab": {
          "base_uri": "https://localhost:8080/",
          "height": 78
        },
        "id": "7GzZFKhPzvNy",
        "outputId": "71c60fd6-a920-497d-81bd-0d3ee8d31b19"
      },
      "execution_count": null,
      "outputs": [
        {
          "output_type": "execute_result",
          "data": {
            "text/plain": [
              "Matrix([\n",
              "[1, 1],\n",
              "[1, 1],\n",
              "[1, 1]])"
            ],
            "text/latex": "$\\displaystyle \\left[\\begin{matrix}1 & 1\\\\1 & 1\\\\1 & 1\\end{matrix}\\right]$"
          },
          "metadata": {},
          "execution_count": 32
        }
      ]
    },
    {
      "cell_type": "code",
      "source": [
        "diag(1,5,-2)"
      ],
      "metadata": {
        "colab": {
          "base_uri": "https://localhost:8080/",
          "height": 78
        },
        "id": "iz1B7WgizyQ1",
        "outputId": "a2d618ff-887f-4c46-9280-12fcf6d77043"
      },
      "execution_count": null,
      "outputs": [
        {
          "output_type": "execute_result",
          "data": {
            "text/plain": [
              "Matrix([\n",
              "[1, 0,  0],\n",
              "[0, 5,  0],\n",
              "[0, 0, -2]])"
            ],
            "text/latex": "$\\displaystyle \\left[\\begin{matrix}1 & 0 & 0\\\\0 & 5 & 0\\\\0 & 0 & -2\\end{matrix}\\right]$"
          },
          "metadata": {},
          "execution_count": 34
        }
      ]
    },
    {
      "cell_type": "code",
      "source": [
        "diag(-1, ones(2, 2), Matrix([5, 7, 5]))"
      ],
      "metadata": {
        "colab": {
          "base_uri": "https://localhost:8080/",
          "height": 139
        },
        "id": "G0QqU4XXz4w2",
        "outputId": "b22adc82-c04f-4983-e1ca-3ae73916f4d5"
      },
      "execution_count": null,
      "outputs": [
        {
          "output_type": "execute_result",
          "data": {
            "text/plain": [
              "Matrix([\n",
              "[-1, 0, 0, 0],\n",
              "[ 0, 1, 1, 0],\n",
              "[ 0, 1, 1, 0],\n",
              "[ 0, 0, 0, 5],\n",
              "[ 0, 0, 0, 7],\n",
              "[ 0, 0, 0, 5]])"
            ],
            "text/latex": "$\\displaystyle \\left[\\begin{matrix}-1 & 0 & 0 & 0\\\\0 & 1 & 1 & 0\\\\0 & 1 & 1 & 0\\\\0 & 0 & 0 & 5\\\\0 & 0 & 0 & 7\\\\0 & 0 & 0 & 5\\end{matrix}\\right]$"
          },
          "metadata": {},
          "execution_count": 35
        }
      ]
    },
    {
      "cell_type": "code",
      "source": [
        "W = Matrix([[1,2,3]])\n",
        "W"
      ],
      "metadata": {
        "colab": {
          "base_uri": "https://localhost:8080/",
          "height": 39
        },
        "id": "R5DWwFMGz_Qe",
        "outputId": "b6ba87da-30de-4913-dba5-b3a45a93f3c1"
      },
      "execution_count": null,
      "outputs": [
        {
          "output_type": "execute_result",
          "data": {
            "text/plain": [
              "Matrix([[1, 2, 3]])"
            ],
            "text/latex": "$\\displaystyle \\left[\\begin{matrix}1 & 2 & 3\\end{matrix}\\right]$"
          },
          "metadata": {},
          "execution_count": 37
        }
      ]
    },
    {
      "cell_type": "code",
      "source": [
        "W = Matrix([[1],[2],[3]])\n",
        "W"
      ],
      "metadata": {
        "colab": {
          "base_uri": "https://localhost:8080/",
          "height": 78
        },
        "id": "PO_Esg8E0EJ8",
        "outputId": "adb41b4a-4884-42d1-c2df-2f6850b8fd47"
      },
      "execution_count": null,
      "outputs": [
        {
          "output_type": "execute_result",
          "data": {
            "text/plain": [
              "Matrix([\n",
              "[1],\n",
              "[2],\n",
              "[3]])"
            ],
            "text/latex": "$\\displaystyle \\left[\\begin{matrix}1\\\\2\\\\3\\end{matrix}\\right]$"
          },
          "metadata": {},
          "execution_count": 38
        }
      ]
    },
    {
      "cell_type": "code",
      "source": [
        "A = Matrix([[1,2,3], [0,-1, 1]])\n",
        "A.shape"
      ],
      "metadata": {
        "colab": {
          "base_uri": "https://localhost:8080/"
        },
        "id": "eagukpVn0aLB",
        "outputId": "326b545f-0556-4982-b524-a07df1ac1d2d"
      },
      "execution_count": null,
      "outputs": [
        {
          "output_type": "execute_result",
          "data": {
            "text/plain": [
              "(2, 3)"
            ]
          },
          "metadata": {},
          "execution_count": 39
        }
      ]
    },
    {
      "cell_type": "code",
      "source": [
        "a11, a12, a13, a21, a22, a23, a31, a32, a33 = symbols('a11 a12 a13 a21 a22 a23 a31 a32 a33 ')\n",
        "A = Matrix([[a11, a12, a13],[a21, a22, a23],[a31, a32, a33]])\n",
        "A"
      ],
      "metadata": {
        "colab": {
          "base_uri": "https://localhost:8080/",
          "height": 78
        },
        "id": "YXyWNTkZ0dHw",
        "outputId": "a8ce5b8e-fa4b-49ef-d5d8-c7e8c4ad80d0"
      },
      "execution_count": null,
      "outputs": [
        {
          "output_type": "execute_result",
          "data": {
            "text/plain": [
              "Matrix([\n",
              "[a11, a12, a13],\n",
              "[a21, a22, a23],\n",
              "[a31, a32, a33]])"
            ],
            "text/latex": "$\\displaystyle \\left[\\begin{matrix}a_{11} & a_{12} & a_{13}\\\\a_{21} & a_{22} & a_{23}\\\\a_{31} & a_{32} & a_{33}\\end{matrix}\\right]$"
          },
          "metadata": {},
          "execution_count": 40
        }
      ]
    },
    {
      "cell_type": "code",
      "source": [
        "A[2,0]"
      ],
      "metadata": {
        "colab": {
          "base_uri": "https://localhost:8080/",
          "height": 39
        },
        "id": "I1C-PuwE0sBu",
        "outputId": "f4f1e71e-a792-4462-e516-7bf34da85eb6"
      },
      "execution_count": null,
      "outputs": [
        {
          "output_type": "execute_result",
          "data": {
            "text/plain": [
              "a31"
            ],
            "text/latex": "$\\displaystyle a_{31}$"
          },
          "metadata": {},
          "execution_count": 42
        }
      ]
    },
    {
      "cell_type": "code",
      "source": [
        "A[:, 1:2]"
      ],
      "metadata": {
        "colab": {
          "base_uri": "https://localhost:8080/",
          "height": 78
        },
        "id": "kGFaz0et0-uG",
        "outputId": "b145307e-c16d-4cb9-f25e-0d4ac8eae5a0"
      },
      "execution_count": null,
      "outputs": [
        {
          "output_type": "execute_result",
          "data": {
            "text/plain": [
              "Matrix([\n",
              "[a12],\n",
              "[a22],\n",
              "[a32]])"
            ],
            "text/latex": "$\\displaystyle \\left[\\begin{matrix}a_{12}\\\\a_{22}\\\\a_{32}\\end{matrix}\\right]$"
          },
          "metadata": {},
          "execution_count": 44
        }
      ]
    },
    {
      "cell_type": "code",
      "source": [
        "A.row(0)"
      ],
      "metadata": {
        "colab": {
          "base_uri": "https://localhost:8080/",
          "height": 39
        },
        "id": "x9BH872F1HB3",
        "outputId": "aa123b32-eaf5-42bf-9d81-d5b5105bae4a"
      },
      "execution_count": null,
      "outputs": [
        {
          "output_type": "execute_result",
          "data": {
            "text/plain": [
              "Matrix([[a11, a12, a13]])"
            ],
            "text/latex": "$\\displaystyle \\left[\\begin{matrix}a_{11} & a_{12} & a_{13}\\end{matrix}\\right]$"
          },
          "metadata": {},
          "execution_count": 45
        }
      ]
    },
    {
      "cell_type": "code",
      "source": [
        "A.col(1)"
      ],
      "metadata": {
        "colab": {
          "base_uri": "https://localhost:8080/",
          "height": 78
        },
        "id": "SARWSqFm1Mo0",
        "outputId": "1da86df8-2538-448e-bca1-18adeb1b56b7"
      },
      "execution_count": null,
      "outputs": [
        {
          "output_type": "execute_result",
          "data": {
            "text/plain": [
              "Matrix([\n",
              "[a12],\n",
              "[a22],\n",
              "[a32]])"
            ],
            "text/latex": "$\\displaystyle \\left[\\begin{matrix}a_{12}\\\\a_{22}\\\\a_{32}\\end{matrix}\\right]$"
          },
          "metadata": {},
          "execution_count": 46
        }
      ]
    },
    {
      "cell_type": "code",
      "source": [
        "A.row_del(0)\n",
        "A"
      ],
      "metadata": {
        "colab": {
          "base_uri": "https://localhost:8080/",
          "height": 58
        },
        "id": "c4wFkiDG1PxY",
        "outputId": "acd870ad-9c6e-4317-8f5c-69e281322338"
      },
      "execution_count": null,
      "outputs": [
        {
          "output_type": "execute_result",
          "data": {
            "text/plain": [
              "Matrix([\n",
              "[a21, a22, a23],\n",
              "[a31, a32, a33]])"
            ],
            "text/latex": "$\\displaystyle \\left[\\begin{matrix}a_{21} & a_{22} & a_{23}\\\\a_{31} & a_{32} & a_{33}\\end{matrix}\\right]$"
          },
          "metadata": {},
          "execution_count": 47
        }
      ]
    },
    {
      "cell_type": "code",
      "source": [
        "A.col_del(1)\n",
        "A"
      ],
      "metadata": {
        "colab": {
          "base_uri": "https://localhost:8080/",
          "height": 58
        },
        "id": "ygX_VBr01ZBa",
        "outputId": "0bd3975a-af9d-4d70-d8b4-1441550ea0fb"
      },
      "execution_count": null,
      "outputs": [
        {
          "output_type": "execute_result",
          "data": {
            "text/plain": [
              "Matrix([\n",
              "[a21, a23],\n",
              "[a31, a33]])"
            ],
            "text/latex": "$\\displaystyle \\left[\\begin{matrix}a_{21} & a_{23}\\\\a_{31} & a_{33}\\end{matrix}\\right]$"
          },
          "metadata": {},
          "execution_count": 48
        }
      ]
    },
    {
      "cell_type": "code",
      "source": [
        "B = Matrix([[1,2,3],  [7,8,9]])\n",
        "I = B.row_insert(1, Matrix([[4,5,6]]))\n",
        "I"
      ],
      "metadata": {
        "colab": {
          "base_uri": "https://localhost:8080/",
          "height": 78
        },
        "id": "hyblq6171eJI",
        "outputId": "f3b668f9-eaab-4957-ec57-b5e228933238"
      },
      "execution_count": null,
      "outputs": [
        {
          "output_type": "execute_result",
          "data": {
            "text/plain": [
              "Matrix([\n",
              "[1, 2, 3],\n",
              "[4, 5, 6],\n",
              "[7, 8, 9]])"
            ],
            "text/latex": "$\\displaystyle \\left[\\begin{matrix}1 & 2 & 3\\\\4 & 5 & 6\\\\7 & 8 & 9\\end{matrix}\\right]$"
          },
          "metadata": {},
          "execution_count": 56
        }
      ]
    },
    {
      "cell_type": "code",
      "source": [
        "D = I.col_insert(3,Matrix([4,1,6]))\n",
        "D"
      ],
      "metadata": {
        "colab": {
          "base_uri": "https://localhost:8080/",
          "height": 78
        },
        "id": "TU2492IW2zMT",
        "outputId": "a56340c7-2534-4076-a28e-9c8f224577da"
      },
      "execution_count": null,
      "outputs": [
        {
          "output_type": "execute_result",
          "data": {
            "text/plain": [
              "Matrix([\n",
              "[1, 2, 3, 4],\n",
              "[4, 5, 6, 1],\n",
              "[7, 8, 9, 6]])"
            ],
            "text/latex": "$\\displaystyle \\left[\\begin{matrix}1 & 2 & 3 & 4\\\\4 & 5 & 6 & 1\\\\7 & 8 & 9 & 6\\end{matrix}\\right]$"
          },
          "metadata": {},
          "execution_count": 61
        }
      ]
    },
    {
      "cell_type": "code",
      "source": [
        "V = Matrix([[1,x],[y,z]])\n",
        "V*V"
      ],
      "metadata": {
        "colab": {
          "base_uri": "https://localhost:8080/",
          "height": 58
        },
        "id": "OKtTdlLS3Iur",
        "outputId": "9d256f4e-1df6-4ec2-f126-a0a50aabd05e"
      },
      "execution_count": null,
      "outputs": [
        {
          "output_type": "execute_result",
          "data": {
            "text/plain": [
              "Matrix([\n",
              "[x*у + 1,    x*z + x],\n",
              "[z*у + у, x*у + z**2]])"
            ],
            "text/latex": "$\\displaystyle \\left[\\begin{matrix}x у + 1 & x z + x\\\\z у + у & x у + z^{2}\\end{matrix}\\right]$"
          },
          "metadata": {},
          "execution_count": 62
        }
      ]
    },
    {
      "cell_type": "code",
      "source": [
        "B.T"
      ],
      "metadata": {
        "colab": {
          "base_uri": "https://localhost:8080/",
          "height": 78
        },
        "id": "Chj0Nmjl3SaO",
        "outputId": "d50a2ada-0543-4b30-c455-a2c4d34a32bb"
      },
      "execution_count": null,
      "outputs": [
        {
          "output_type": "execute_result",
          "data": {
            "text/plain": [
              "Matrix([\n",
              "[1, 7],\n",
              "[2, 8],\n",
              "[3, 9]])"
            ],
            "text/latex": "$\\displaystyle \\left[\\begin{matrix}1 & 7\\\\2 & 8\\\\3 & 9\\end{matrix}\\right]$"
          },
          "metadata": {},
          "execution_count": 63
        }
      ]
    },
    {
      "cell_type": "code",
      "source": [
        "D = Matrix([[0,1],[1,0]])\n",
        "det(D)"
      ],
      "metadata": {
        "colab": {
          "base_uri": "https://localhost:8080/",
          "height": 37
        },
        "id": "fXTBi0vW3bIx",
        "outputId": "c0e8e9b1-f525-4a08-f42a-a7492d0ac7b5"
      },
      "execution_count": null,
      "outputs": [
        {
          "output_type": "execute_result",
          "data": {
            "text/plain": [
              "-1"
            ],
            "text/latex": "$\\displaystyle -1$"
          },
          "metadata": {},
          "execution_count": 66
        }
      ]
    },
    {
      "cell_type": "code",
      "source": [
        "D.inv()"
      ],
      "metadata": {
        "id": "GyBxWsFn4cvo",
        "outputId": "87eb0dc5-bfb0-4e1d-b609-bbb100297dd6",
        "colab": {
          "base_uri": "https://localhost:8080/",
          "height": 58
        }
      },
      "execution_count": null,
      "outputs": [
        {
          "output_type": "execute_result",
          "data": {
            "text/plain": [
              "Matrix([\n",
              "[0, 1],\n",
              "[1, 0]])"
            ],
            "text/latex": "$\\displaystyle \\left[\\begin{matrix}0 & 1\\\\1 & 0\\end{matrix}\\right]$"
          },
          "metadata": {},
          "execution_count": 72
        }
      ]
    },
    {
      "cell_type": "code",
      "source": [
        "A = Matrix([[1,8,3],[4,5,6],[7,8,9]])\n",
        "A**-1"
      ],
      "metadata": {
        "colab": {
          "base_uri": "https://localhost:8080/",
          "height": 79
        },
        "id": "HIHo_Pyk34J_",
        "outputId": "c82cf202-3c6f-49fb-95ec-f196edd56d5b"
      },
      "execution_count": null,
      "outputs": [
        {
          "output_type": "execute_result",
          "data": {
            "text/plain": [
              "Matrix([\n",
              "[-1/12, -4/3, 11/12],\n",
              "[  1/6, -1/3,   1/6],\n",
              "[-1/12,  4/3,  -3/4]])"
            ],
            "text/latex": "$\\displaystyle \\left[\\begin{matrix}- \\frac{1}{12} & - \\frac{4}{3} & \\frac{11}{12}\\\\\\frac{1}{6} & - \\frac{1}{3} & \\frac{1}{6}\\\\- \\frac{1}{12} & \\frac{4}{3} & - \\frac{3}{4}\\end{matrix}\\right]$"
          },
          "metadata": {},
          "execution_count": 71
        }
      ]
    },
    {
      "cell_type": "code",
      "source": [
        "A = Matrix([[1, -1, 2],[2, -2, 4],[-1, 1, 2]])\n",
        "A.rank()"
      ],
      "metadata": {
        "id": "eeWvdtsI4ZhA",
        "colab": {
          "base_uri": "https://localhost:8080/"
        },
        "outputId": "2c1fae1b-35bf-4630-cf6e-5e4626ec2a49"
      },
      "execution_count": null,
      "outputs": [
        {
          "output_type": "execute_result",
          "data": {
            "text/plain": [
              "2"
            ]
          },
          "metadata": {},
          "execution_count": 4
        }
      ]
    },
    {
      "cell_type": "markdown",
      "source": [
        "Задание 1"
      ],
      "metadata": {
        "id": "UnziMx1-S5rv"
      }
    },
    {
      "cell_type": "code",
      "source": [
        "givenMat = Matrix([[1,3,4,5,0],[4,-1,0,1,2],[3,2,5,5,3],[-2,0,1,-1,1],[4,6,7,11,-1]])\n",
        "givenMat.rank()"
      ],
      "metadata": {
        "colab": {
          "base_uri": "https://localhost:8080/"
        },
        "id": "dwWZMgnySijQ",
        "outputId": "9c63bd77-9f79-447f-cd30-ee4712dd20ca"
      },
      "execution_count": 16,
      "outputs": [
        {
          "output_type": "execute_result",
          "data": {
            "text/plain": [
              "3"
            ]
          },
          "metadata": {},
          "execution_count": 16
        }
      ]
    },
    {
      "cell_type": "markdown",
      "source": [
        "Задание 2"
      ],
      "metadata": {
        "id": "rUg8WXirVUDu"
      }
    },
    {
      "cell_type": "code",
      "source": [
        "givenMat = Matrix([[1,3,4],[4,-1,0],[3,2,5],[-2,0,1],[4,6,7]])\n",
        "givenMat.T\n",
        "givenMat.columnspace()"
      ],
      "metadata": {
        "colab": {
          "base_uri": "https://localhost:8080/"
        },
        "id": "pih3l_vXVWno",
        "outputId": "d05189b1-e982-47fa-fd97-18c2b5d205ca"
      },
      "execution_count": null,
      "outputs": [
        {
          "output_type": "execute_result",
          "data": {
            "text/plain": [
              "[Matrix([\n",
              " [ 1],\n",
              " [ 4],\n",
              " [ 3],\n",
              " [-2],\n",
              " [ 4]]),\n",
              " Matrix([\n",
              " [ 3],\n",
              " [-1],\n",
              " [ 2],\n",
              " [ 0],\n",
              " [ 6]]),\n",
              " Matrix([\n",
              " [4],\n",
              " [0],\n",
              " [5],\n",
              " [1],\n",
              " [7]])]"
            ]
          },
          "metadata": {},
          "execution_count": 8
        }
      ]
    },
    {
      "cell_type": "markdown",
      "source": [
        "Задание 3"
      ],
      "metadata": {
        "id": "E8GElkTEWxo5"
      }
    },
    {
      "cell_type": "code",
      "source": [
        "givenMat = Matrix([[1, 2,0,9],[-3,7, 11,5],[-9,4,25,84],[3,12,-5,58]])\n",
        "givenMat.minorEntry(2,1)"
      ],
      "metadata": {
        "colab": {
          "base_uri": "https://localhost:8080/",
          "height": 37
        },
        "id": "CSsIhSlNWzXP",
        "outputId": "f9bb3c36-a15b-4e07-e716-b712767d32fb"
      },
      "execution_count": 91,
      "outputs": [
        {
          "output_type": "execute_result",
          "data": {
            "text/plain": [
              "501"
            ],
            "text/latex": "$\\displaystyle 501$"
          },
          "metadata": {},
          "execution_count": 91
        }
      ]
    },
    {
      "cell_type": "markdown",
      "source": [
        "Задание 4"
      ],
      "metadata": {
        "id": "cFruB5oZYyY9"
      }
    },
    {
      "cell_type": "code",
      "source": [
        "givenMat.cofactor_matrix()\n"
      ],
      "metadata": {
        "id": "yZgpDJkPY8kg",
        "colab": {
          "base_uri": "https://localhost:8080/",
          "height": 99
        },
        "outputId": "62d21681-953d-456e-8290-5d91b1d0476a"
      },
      "execution_count": 24,
      "outputs": [
        {
          "output_type": "execute_result",
          "data": {
            "text/plain": [
              "Matrix([\n",
              "[20026, -2754,  7146,  150],\n",
              "[ -860,  1600,   308, -260],\n",
              "[ -177,  -501,   211,  131],\n",
              "[-2777,  1015, -1441,   83]])"
            ],
            "text/latex": "$\\displaystyle \\left[\\begin{matrix}20026 & -2754 & 7146 & 150\\\\-860 & 1600 & 308 & -260\\\\-177 & -501 & 211 & 131\\\\-2777 & 1015 & -1441 & 83\\end{matrix}\\right]$"
          },
          "metadata": {},
          "execution_count": 24
        }
      ]
    },
    {
      "cell_type": "markdown",
      "source": [
        "Задание 5"
      ],
      "metadata": {
        "id": "EDKknSTSi4om"
      }
    },
    {
      "cell_type": "code",
      "source": [
        "row = [0,2]\n",
        "colum = [2,3]\n",
        "det(givenMat.extract(row,colum))"
      ],
      "metadata": {
        "colab": {
          "base_uri": "https://localhost:8080/",
          "height": 37
        },
        "id": "FR2NF1Qli6Jw",
        "outputId": "59cc5643-5d8a-4017-f384-1f498176fea6"
      },
      "execution_count": 33,
      "outputs": [
        {
          "output_type": "execute_result",
          "data": {
            "text/plain": [
              "-225"
            ],
            "text/latex": "$\\displaystyle -225$"
          },
          "metadata": {},
          "execution_count": 33
        }
      ]
    },
    {
      "cell_type": "markdown",
      "source": [
        "Задание 6"
      ],
      "metadata": {
        "id": "6P5iQH1exfgG"
      }
    },
    {
      "cell_type": "code",
      "source": [
        "givenMat = Matrix([[1,3,2,4,5],[0,0,-1,2,7],[3,9,6,12,15],[5,15,9,26,22],[1,3,1,10,2]])\n",
        "reduced_mat, pivots = givenMat.rref()\n",
        "det(reduced_mat)\n",
        "\n",
        "Minor = Matrix()\n",
        "for i in range(reduced_mat.rows):\n",
        "    row = reduced_mat.row(i)\n",
        "    position = 0\n",
        "    flag = 0\n",
        "    for j in range(reduced_mat.cols):\n",
        "        if row[j] != 0:\n",
        "          flag = 1\n",
        "          break\n",
        "    if flag == 1:\n",
        "        Minor = Minor.row_insert(position, row)\n",
        "        position += 1\n",
        "\n",
        "\n",
        "print(\"Базисные строки:\")\n",
        "for row in Minor.tolist():\n",
        "    print(row)\n",
        "\n",
        "print(\"\\nБазисные столбцы:\")\n",
        "for row in Minor.T.tolist():\n",
        "    print(row)\n",
        "\n",
        "print(\"\\nБазисный минор:\\n\")\n",
        "Minor\n"
      ],
      "metadata": {
        "colab": {
          "base_uri": "https://localhost:8080/",
          "height": 321
        },
        "id": "_F-e10sTxhNY",
        "outputId": "c97adfde-f0cb-4b8e-c811-8a0135b1fcb8"
      },
      "execution_count": 73,
      "outputs": [
        {
          "output_type": "stream",
          "name": "stdout",
          "text": [
            "Базисные строки:\n",
            "[0, 0, 0, 1, -5/2]\n",
            "[0, 0, 1, 0, -12]\n",
            "[1, 3, 0, 0, 39]\n",
            "\n",
            "Базисные столбцы:\n",
            "[0, 0, 1]\n",
            "[0, 0, 3]\n",
            "[0, 1, 0]\n",
            "[1, 0, 0]\n",
            "[-5/2, -12, 39]\n",
            "\n",
            "Базисный минор:\n",
            "\n"
          ]
        },
        {
          "output_type": "execute_result",
          "data": {
            "text/plain": [
              "Matrix([\n",
              "[0, 0, 0, 1, -5/2],\n",
              "[0, 0, 1, 0,  -12],\n",
              "[1, 3, 0, 0,   39]])"
            ],
            "text/latex": "$\\displaystyle \\left[\\begin{matrix}0 & 0 & 0 & 1 & - \\frac{5}{2}\\\\0 & 0 & 1 & 0 & -12\\\\1 & 3 & 0 & 0 & 39\\end{matrix}\\right]$"
          },
          "metadata": {},
          "execution_count": 73
        }
      ]
    },
    {
      "cell_type": "markdown",
      "source": [
        "СЛАУ"
      ],
      "metadata": {
        "id": "iTKTf8nmBnoI"
      }
    },
    {
      "cell_type": "code",
      "source": [
        "A = np.array([[3,2,0],\n",
        "              [1,-1,0],\n",
        "              [0,5,1]])\n",
        "b = np.array([[2],[4],[-1]])\n",
        "u = np.linalg.solve(A,b)\n",
        "u"
      ],
      "metadata": {
        "colab": {
          "base_uri": "https://localhost:8080/"
        },
        "id": "4iXAVMEBBp_H",
        "outputId": "d640a02d-e910-4c6a-c2cf-575a26abbe4d"
      },
      "execution_count": 81,
      "outputs": [
        {
          "output_type": "execute_result",
          "data": {
            "text/plain": [
              "array([[ 2.],\n",
              "       [-2.],\n",
              "       [ 9.]])"
            ]
          },
          "metadata": {},
          "execution_count": 81
        }
      ]
    },
    {
      "cell_type": "code",
      "source": [
        "A = Matrix([[3,2,0],\n",
        "            [1,-1,0],\n",
        "            [0,5,1]])\n",
        "b = Matrix([[2],[4],[-1]])\n",
        "x = A**-1 * b\n",
        "x"
      ],
      "metadata": {
        "colab": {
          "base_uri": "https://localhost:8080/",
          "height": 78
        },
        "id": "7ENyxN8kFV36",
        "outputId": "9600de94-ab3a-4081-a0ef-0eb976326200"
      },
      "execution_count": 83,
      "outputs": [
        {
          "output_type": "execute_result",
          "data": {
            "text/plain": [
              "Matrix([\n",
              "[ 2],\n",
              "[-2],\n",
              "[ 9]])"
            ],
            "text/latex": "$\\displaystyle \\left[\\begin{matrix}2\\\\-2\\\\9\\end{matrix}\\right]$"
          },
          "metadata": {},
          "execution_count": 83
        }
      ]
    },
    {
      "cell_type": "code",
      "source": [
        "F = Matrix([[2,6],[-1,2]])\n",
        "a = Matrix([0,5])\n",
        "x = F.inv() * a\n",
        "x"
      ],
      "metadata": {
        "colab": {
          "base_uri": "https://localhost:8080/",
          "height": 58
        },
        "id": "sboCLuuTFzdP",
        "outputId": "0318a63a-d924-4cb5-9479-955a2ca28682"
      },
      "execution_count": 84,
      "outputs": [
        {
          "output_type": "execute_result",
          "data": {
            "text/plain": [
              "Matrix([\n",
              "[-3],\n",
              "[ 1]])"
            ],
            "text/latex": "$\\displaystyle \\left[\\begin{matrix}-3\\\\1\\end{matrix}\\right]$"
          },
          "metadata": {},
          "execution_count": 84
        }
      ]
    },
    {
      "cell_type": "markdown",
      "source": [
        "Теорема Кронкера-Капелли:\n",
        "\n",
        "rangA = rang(A|b) = n совместна, имеет 1 решение\n",
        "\n",
        "rangA < rang(A\\b) несовместна, нет решений\n",
        "\n",
        "rangA = rang(A|b) < n бескон. кол-во решений"
      ],
      "metadata": {
        "id": "mvZIut5SHIqs"
      }
    },
    {
      "cell_type": "code",
      "source": [
        "x1,x2,x3 = symbols('x1 x2 x3')\n",
        "\n",
        "exp1 = Eq(x1 - 2 * x2 + 4 * x3, 6)\n",
        "exp2 = Eq(x1 - 2 * x2 + x3, 4)\n",
        "exp3 = Eq(-3 * x1 + 6 * x2 - 12 * x3, -18)\n",
        "\n",
        "sys = [exp1, exp2, exp3]\n",
        "\n",
        "solve = linsolve(sys, x1,x2,x3)\n",
        "solve"
      ],
      "metadata": {
        "colab": {
          "base_uri": "https://localhost:8080/",
          "height": 58
        },
        "id": "gbha5kyMH-ry",
        "outputId": "1b2fc0a5-0a77-4fbd-a28f-d41b8fc49e49"
      },
      "execution_count": 90,
      "outputs": [
        {
          "output_type": "execute_result",
          "data": {
            "text/plain": [
              "{(2*x2 + 10/3, x2, 2/3)}"
            ],
            "text/latex": "$\\displaystyle \\left\\{\\left( 2 x_{2} + \\frac{10}{3}, \\  x_{2}, \\  \\frac{2}{3}\\right)\\right\\}$"
          },
          "metadata": {},
          "execution_count": 90
        }
      ]
    }
  ]
}