{
  "nbformat": 4,
  "nbformat_minor": 0,
  "metadata": {
    "colab": {
      "provenance": []
    },
    "kernelspec": {
      "name": "python3",
      "display_name": "Python 3"
    },
    "language_info": {
      "name": "python"
    }
  },
  "cells": [
    {
      "cell_type": "code",
      "execution_count": 1,
      "metadata": {
        "colab": {
          "base_uri": "https://localhost:8080/"
        },
        "id": "s2KQ9qDzGJdM",
        "outputId": "ad78c02c-a4a6-404d-a518-643302bedc87"
      },
      "outputs": [
        {
          "output_type": "stream",
          "name": "stdout",
          "text": [
            "\u001b[2K     \u001b[90m━━━━━━━━━━━━━━━━━━━━━━━━━━━━━━━━━━━━━━━━\u001b[0m \u001b[32m12.7/12.7 MB\u001b[0m \u001b[31m33.7 MB/s\u001b[0m eta \u001b[36m0:00:00\u001b[0m\n",
            "\u001b[2K     \u001b[90m━━━━━━━━━━━━━━━━━━━━━━━━━━━━━━━━━━━━━━━━\u001b[0m \u001b[32m49.6/49.6 kB\u001b[0m \u001b[31m5.1 MB/s\u001b[0m eta \u001b[36m0:00:00\u001b[0m\n",
            "\u001b[?25hSelecting previously unselected package coinor-libcoinutils3v5:amd64.\n",
            "(Reading database ... 120901 files and directories currently installed.)\n",
            "Preparing to unpack .../0-coinor-libcoinutils3v5_2.11.4+repack1-2_amd64.deb ...\n",
            "Unpacking coinor-libcoinutils3v5:amd64 (2.11.4+repack1-2) ...\n",
            "Selecting previously unselected package coinor-libosi1v5:amd64.\n",
            "Preparing to unpack .../1-coinor-libosi1v5_0.108.6+repack1-2_amd64.deb ...\n",
            "Unpacking coinor-libosi1v5:amd64 (0.108.6+repack1-2) ...\n",
            "Selecting previously unselected package coinor-libclp1.\n",
            "Preparing to unpack .../2-coinor-libclp1_1.17.5+repack1-1_amd64.deb ...\n",
            "Unpacking coinor-libclp1 (1.17.5+repack1-1) ...\n",
            "Selecting previously unselected package coinor-libcgl1:amd64.\n",
            "Preparing to unpack .../3-coinor-libcgl1_0.60.3+repack1-3_amd64.deb ...\n",
            "Unpacking coinor-libcgl1:amd64 (0.60.3+repack1-3) ...\n",
            "Selecting previously unselected package coinor-libcbc3:amd64.\n",
            "Preparing to unpack .../4-coinor-libcbc3_2.10.7+ds1-1_amd64.deb ...\n",
            "Unpacking coinor-libcbc3:amd64 (2.10.7+ds1-1) ...\n",
            "Selecting previously unselected package coinor-cbc.\n",
            "Preparing to unpack .../5-coinor-cbc_2.10.7+ds1-1_amd64.deb ...\n",
            "Unpacking coinor-cbc (2.10.7+ds1-1) ...\n",
            "Setting up coinor-libcoinutils3v5:amd64 (2.11.4+repack1-2) ...\n",
            "Setting up coinor-libosi1v5:amd64 (0.108.6+repack1-2) ...\n",
            "Setting up coinor-libclp1 (1.17.5+repack1-1) ...\n",
            "Setting up coinor-libcgl1:amd64 (0.60.3+repack1-3) ...\n",
            "Setting up coinor-libcbc3:amd64 (2.10.7+ds1-1) ...\n",
            "Setting up coinor-cbc (2.10.7+ds1-1) ...\n",
            "Processing triggers for man-db (2.10.2-1) ...\n",
            "Processing triggers for libc-bin (2.35-0ubuntu3.1) ...\n",
            "/sbin/ldconfig.real: /usr/local/lib/libtbb.so.12 is not a symbolic link\n",
            "\n",
            "/sbin/ldconfig.real: /usr/local/lib/libtbbbind.so.3 is not a symbolic link\n",
            "\n",
            "/sbin/ldconfig.real: /usr/local/lib/libtbbmalloc.so.2 is not a symbolic link\n",
            "\n",
            "/sbin/ldconfig.real: /usr/local/lib/libtbbbind_2_0.so.3 is not a symbolic link\n",
            "\n",
            "/sbin/ldconfig.real: /usr/local/lib/libtbbmalloc_proxy.so.2 is not a symbolic link\n",
            "\n",
            "/sbin/ldconfig.real: /usr/local/lib/libtbbbind_2_5.so.3 is not a symbolic link\n",
            "\n"
          ]
        }
      ],
      "source": [
        "import shutil\n",
        "import sys\n",
        "import os.path\n",
        "\n",
        "# check if pyomo has been installed. If not, install with pip\n",
        "if not shutil.which(\"pyomo\"):\n",
        "    !pip install -q pyomo\n",
        "assert(shutil.which(\"pyomo\"))\n",
        "\n",
        "# check if COIN-OR CBC is installed. If not, install.\n",
        "if not (shutil.which(\"cbc\") or os.path.isfile(\"cbc\")):\n",
        "    if \"google.colab\" in sys.modules:\n",
        "        !apt-get install -y -qq coinor-cbc\n",
        "    else:\n",
        "        try:\n",
        "            !conda install -c conda-forge coincbc\n",
        "        except:\n",
        "            pass\n",
        "assert(shutil.which(\"cbc\") or os.path.isfile(\"cbc\"))\n",
        "\n",
        "import pyomo.environ as pyo"
      ]
    },
    {
      "cell_type": "code",
      "source": [
        "shutil.which(\"cbc\")"
      ],
      "metadata": {
        "colab": {
          "base_uri": "https://localhost:8080/",
          "height": 35
        },
        "id": "wJ39EdOGG1dg",
        "outputId": "230cabc4-15f9-435d-c6fb-5132bff570f4"
      },
      "execution_count": 3,
      "outputs": [
        {
          "output_type": "execute_result",
          "data": {
            "text/plain": [
              "'/usr/bin/cbc'"
            ],
            "application/vnd.google.colaboratory.intrinsic+json": {
              "type": "string"
            }
          },
          "metadata": {},
          "execution_count": 3
        }
      ]
    },
    {
      "cell_type": "code",
      "source": [
        "from pyomo.environ import ConcreteModel, Var, NonNegativeReals, Objective, maximize, minimize, Constraint\n",
        "from pyomo.opt import SolverFactory\n",
        "import matplotlib.pyplot as plt\n",
        "import numpy as np"
      ],
      "metadata": {
        "id": "LRI6mEsjHCtr"
      },
      "execution_count": 33,
      "outputs": []
    },
    {
      "cell_type": "code",
      "source": [
        "# параметры функции оптимизации Z = a*x1 + b*x2\n",
        "a = 2\n",
        "b = 6\n",
        "\n",
        "# параметры системы a1*x1 + b1*x2 = n1; a2*x1 + b2*x2 = n2; a3*x1 + b3*x2 = n3;\n",
        "a1 = 1\n",
        "a2 = 1\n",
        "a3 = 2\n",
        "b1 = 1\n",
        "b2 = 2\n",
        "b3 = 3\n",
        "n1 = 8\n",
        "n2 = 7\n",
        "n3 = 3"
      ],
      "metadata": {
        "id": "9LLJccUgR-si"
      },
      "execution_count": 58,
      "outputs": []
    },
    {
      "cell_type": "code",
      "source": [
        "model = pyo.ConcreteModel()\n",
        "\n",
        "model.x = Var(domain=NonNegativeReals)\n",
        "model.y = Var(domain=NonNegativeReals)\n",
        "\n",
        "model.profit = Objective(\n",
        "    expr = a*model.x + b*model.y,\n",
        "    sense = maximize)                 # maximize\\minimize\n",
        "\n",
        "model.laborA = Constraint(expr = a1 * model.x + b1 * model.y >= n1) # поменять знак в соответствии с вариантом\n",
        "model.laborB = Constraint(expr = a2 * model.x + b2 * model.y >= n2) # поменять знак в соответствии с вариантом\n",
        "model.laborC = Constraint(expr = a3 * model.x + b3 * model.y >= n3) # поменять знак в соответствии с вариантом"
      ],
      "metadata": {
        "id": "Accp5XjhG1zA"
      },
      "execution_count": 59,
      "outputs": []
    },
    {
      "cell_type": "code",
      "source": [
        "SolverFactory('cbc',path='/usr/bin/cbc').solve(model).write()"
      ],
      "metadata": {
        "colab": {
          "base_uri": "https://localhost:8080/"
        },
        "id": "Es5EYiGdHL1G",
        "outputId": "2a0c06c7-289e-4ba7-b356-63b748e19332"
      },
      "execution_count": 60,
      "outputs": [
        {
          "output_type": "stream",
          "name": "stderr",
          "text": [
            "WARNING:pyomo.core:Loading a SolverResults object with a warning status into model.name=\"unknown\";\n",
            "  - termination condition: unbounded\n",
            "  - message from solver: <undefined>\n"
          ]
        },
        {
          "output_type": "stream",
          "name": "stdout",
          "text": [
            "# ==========================================================\n",
            "# = Solver Results                                         =\n",
            "# ==========================================================\n",
            "# ----------------------------------------------------------\n",
            "#   Problem Information\n",
            "# ----------------------------------------------------------\n",
            "Problem: \n",
            "- Name: unknown\n",
            "  Lower bound: inf\n",
            "  Upper bound: None\n",
            "  Number of objectives: 1\n",
            "  Number of constraints: 3\n",
            "  Number of variables: 2\n",
            "  Number of nonzeros: 2\n",
            "  Sense: maximize\n",
            "# ----------------------------------------------------------\n",
            "#   Solver Information\n",
            "# ----------------------------------------------------------\n",
            "Solver: \n",
            "- Status: warning\n",
            "  User time: -1.0\n",
            "  System time: 0.0\n",
            "  Wallclock time: 0.0\n",
            "  Termination condition: unbounded\n",
            "  Termination message: Model was proven to be unbounded.\n",
            "  Statistics: \n",
            "    Branch and bound: \n",
            "      Number of bounded subproblems: 0\n",
            "      Number of created subproblems: 0\n",
            "    Black box: \n",
            "      Number of iterations: 0\n",
            "  Error rc: 0\n",
            "  Time: 0.024300575256347656\n"
          ]
        }
      ]
    },
    {
      "cell_type": "code",
      "source": [
        "print(f\"Units of X = {model.x()}\")\n",
        "print(f\"Units of Y = {model.y()}\")"
      ],
      "metadata": {
        "colab": {
          "base_uri": "https://localhost:8080/"
        },
        "id": "yKNlmiW0Sujj",
        "outputId": "c30322af-243f-49e6-a192-8ee8458c2fde"
      },
      "execution_count": 61,
      "outputs": [
        {
          "output_type": "stream",
          "name": "stdout",
          "text": [
            "Units of X = None\n",
            "Units of Y = None\n"
          ]
        }
      ]
    },
    {
      "cell_type": "code",
      "source": [
        "# Если в предыдущем блоке у вас есть None, а в предпредыдущем\n",
        "# в одном из пунктов Lower bound: или Upper bound: стоит inf, тогда\n",
        "# Даже не запускаем этот блок. Он равен бесконечности\n",
        "Z = a * model.x() + b * model.y()\n",
        "Z"
      ],
      "metadata": {
        "colab": {
          "base_uri": "https://localhost:8080/"
        },
        "id": "D1EVMaE_ZKkW",
        "outputId": "4dd7ed8c-5bd6-4e08-a53b-f21b93e740e0"
      },
      "execution_count": 56,
      "outputs": [
        {
          "output_type": "execute_result",
          "data": {
            "text/plain": [
              "3.0"
            ]
          },
          "metadata": {},
          "execution_count": 56
        }
      ]
    },
    {
      "cell_type": "code",
      "source": [
        "fig, ax = plt.subplots(1, 1, figsize=(4, 4))\n",
        "ax.set_aspect('equal')\n",
        "# \"Размеры\" графика\n",
        "ax.axis([0, 15, 0, 15])\n",
        "ax.set_xlabel('X1')\n",
        "ax.set_ylabel('X2')\n",
        "\n",
        "# Ниже чертятся прямые по следующему правилу:\n",
        "# x2 = (n1 - a1*x1) / b1. Укажите в массиве размер х1, который вам подойдет\n",
        "x1 = np.array([0, 8])\n",
        "ax.plot(x1, (n1 - a1*x1) / b1, 'r', lw=2)\n",
        "ax.plot(x1, (n2 - a2*x1) / b2, 'g', lw=2)\n",
        "ax.plot(x1, (n3 - a3*x1) / b3, 'b', lw=2)\n",
        "\n",
        "# Это блок заливки. Чтобы его сделать красиво - нужно подумать самому.\n",
        "# Списки в аргументе функций описывают заливку от y0 до y1 с постоянным x\n",
        "# [x, y0, y1] Соотнеси аргументы с графиком и все будет понятно\n",
        "# Чтобы выбрать направление заливки - посмотрите на знаки уравнений в системе.\n",
        "# Если >= то заливка удоляется от начала оси координат и наоборот\n",
        "ax.fill_between([0, 8, 15], [8, 0,0 ], [15, 15, 15], color='r', alpha=0.10)\n",
        "ax.fill_between([0, 7, 15], [3.5, 0,0 ], [15, 15, 15], color='g', alpha=0.10)\n",
        "ax.fill_between([0, 1.5, 15], [1, 0,0 ], [15, 15, 15], color='b', alpha=0.10)\n",
        "\n",
        "plt.savefig(fname='plot', bbox_inches='tight')"
      ],
      "metadata": {
        "colab": {
          "base_uri": "https://localhost:8080/",
          "height": 388
        },
        "id": "KcskOUgnHmkR",
        "outputId": "d3ec33ca-fa67-4933-daae-36399eadb423"
      },
      "execution_count": 62,
      "outputs": [
        {
          "output_type": "display_data",
          "data": {
            "text/plain": [
              "<Figure size 400x400 with 1 Axes>"
            ],
            "image/png": "[encoded data removed]"
          },
          "metadata": {}
        }
      ]
    },
    {
      "cell_type": "code",
      "source": [],
      "metadata": {
        "id": "fGf0Xv5rPN6K"
      },
      "execution_count": null,
      "outputs": []
    }
  ]
}